{
 "cells": [
  {
   "cell_type": "markdown",
   "metadata": {},
   "source": [
    "# training model for [cultural classifier](https://cultural-classifier.herokuapp.com/)"
   ]
  },
  {
   "cell_type": "markdown",
   "metadata": {},
   "source": [
    "# Our main task was to determine whether is possible to classify a archaeological cultures solely based on geographic data with the aid of ML techniques "
   ]
  },
  {
   "cell_type": "markdown",
   "metadata": {},
   "source": [
    "#### based on exploratory analysis we can say that viewshed, distance from the river and altitude above the river are most promising attributes for cultural classification\n",
    "\n"
   ]
  },
  {
   "cell_type": "code",
   "execution_count": 125,
   "metadata": {},
   "outputs": [],
   "source": [
    "import pandas as pd\n",
    "import numpy as np\n",
    "import scipy as sp\n",
    "import random \n",
    "from sklearn import preprocessing\n",
    "from sklearn.preprocessing import StandardScaler\n",
    "from scipy import stats\n",
    "import matplotlib.pyplot as plt\n",
    "import seaborn as sns\n",
    "\n",
    "#models\n",
    "from sklearn.linear_model import LogisticRegression\n",
    "from sklearn.ensemble import RandomForestClassifier\n",
    "from sklearn.ensemble import ExtraTreesClassifier\n",
    "from sklearn.neighbors import KNeighborsClassifier\n",
    "from sklearn.tree import DecisionTreeClassifier\n",
    "from sklearn import svm\n",
    "from sklearn.model_selection import KFold, cross_val_score\n",
    "import xgboost\n",
    "#hyper parameter tuning\n",
    "from sklearn.model_selection import GridSearchCV\n",
    "\n",
    "\n",
    "# feature selection\n",
    "from sklearn.feature_selection import SelectKBest\n",
    "#compute anova\n",
    "from sklearn.feature_selection import f_classif\n",
    "#compute chi square\n",
    "from sklearn.feature_selection import chi2\n",
    "\n",
    "#metrics\n",
    "from sklearn.metrics import roc_curve, auc, roc_auc_score\n",
    "from sklearn.metrics import classification_report\n",
    "from sklearn.metrics import plot_confusion_matrix, confusion_matrix\n",
    "\n",
    "#saving model\n",
    "import pickle"
   ]
  },
  {
   "cell_type": "markdown",
   "metadata": {},
   "source": [
    "### preprocessed dataset - with all relavant attributes"
   ]
  },
  {
   "cell_type": "markdown",
   "metadata": {},
   "source": [
    "### 0 is designated to EAU (eurrignacian)\n",
    "### 1 is designated to EPIG (epiaurignacian)"
   ]
  },
  {
   "cell_type": "code",
   "execution_count": 4,
   "metadata": {},
   "outputs": [
    {
     "data": {
      "text/html": [
       "<div>\n",
       "<style scoped>\n",
       "    .dataframe tbody tr th:only-of-type {\n",
       "        vertical-align: middle;\n",
       "    }\n",
       "\n",
       "    .dataframe tbody tr th {\n",
       "        vertical-align: top;\n",
       "    }\n",
       "\n",
       "    .dataframe thead th {\n",
       "        text-align: right;\n",
       "    }\n",
       "</style>\n",
       "<table border=\"1\" class=\"dataframe\">\n",
       "  <thead>\n",
       "    <tr style=\"text-align: right;\">\n",
       "      <th></th>\n",
       "      <th>Terrain variability 500 m buffer</th>\n",
       "      <th>Terrain variability 1000 m buffer</th>\n",
       "      <th>Elevation above river (m)</th>\n",
       "      <th>DtR (m)cor</th>\n",
       "      <th>Viewshed</th>\n",
       "      <th>Classific</th>\n",
       "    </tr>\n",
       "  </thead>\n",
       "  <tbody>\n",
       "    <tr>\n",
       "      <th>0</th>\n",
       "      <td>65</td>\n",
       "      <td>136</td>\n",
       "      <td>154</td>\n",
       "      <td>17400</td>\n",
       "      <td>197464</td>\n",
       "      <td>0</td>\n",
       "    </tr>\n",
       "    <tr>\n",
       "      <th>1</th>\n",
       "      <td>28</td>\n",
       "      <td>42</td>\n",
       "      <td>57</td>\n",
       "      <td>5430</td>\n",
       "      <td>22734</td>\n",
       "      <td>1</td>\n",
       "    </tr>\n",
       "    <tr>\n",
       "      <th>2</th>\n",
       "      <td>55</td>\n",
       "      <td>127</td>\n",
       "      <td>200</td>\n",
       "      <td>2300</td>\n",
       "      <td>204292</td>\n",
       "      <td>0</td>\n",
       "    </tr>\n",
       "    <tr>\n",
       "      <th>3</th>\n",
       "      <td>31</td>\n",
       "      <td>68</td>\n",
       "      <td>30</td>\n",
       "      <td>250</td>\n",
       "      <td>7675</td>\n",
       "      <td>1</td>\n",
       "    </tr>\n",
       "    <tr>\n",
       "      <th>4</th>\n",
       "      <td>21</td>\n",
       "      <td>72</td>\n",
       "      <td>15</td>\n",
       "      <td>80</td>\n",
       "      <td>2460</td>\n",
       "      <td>1</td>\n",
       "    </tr>\n",
       "  </tbody>\n",
       "</table>\n",
       "</div>"
      ],
      "text/plain": [
       "   Terrain variability 500 m buffer  Terrain variability 1000 m buffer  \\\n",
       "0                                65                                136   \n",
       "1                                28                                 42   \n",
       "2                                55                                127   \n",
       "3                                31                                 68   \n",
       "4                                21                                 72   \n",
       "\n",
       "   Elevation above river (m)  DtR (m)cor  Viewshed  Classific  \n",
       "0                        154       17400    197464          0  \n",
       "1                         57        5430     22734          1  \n",
       "2                        200        2300    204292          0  \n",
       "3                         30         250      7675          1  \n",
       "4                         15          80      2460          1  "
      ]
     },
     "execution_count": 4,
     "metadata": {},
     "output_type": "execute_result"
    }
   ],
   "source": [
    "df = pd.read_csv('C:/Users/hamro/Desktop/finished_projects/arch-heroku/data_used_for_training_model/preprocessed_final_table.csv')\n",
    "df.head()"
   ]
  },
  {
   "cell_type": "code",
   "execution_count": 5,
   "metadata": {},
   "outputs": [
    {
     "data": {
      "text/plain": [
       "1    26\n",
       "0    15\n",
       "Name: Classific, dtype: int64"
      ]
     },
     "execution_count": 5,
     "metadata": {},
     "output_type": "execute_result"
    }
   ],
   "source": [
    "df['Classific'].value_counts()"
   ]
  },
  {
   "cell_type": "markdown",
   "metadata": {},
   "source": [
    "### train - test split"
   ]
  },
  {
   "cell_type": "code",
   "execution_count": 6,
   "metadata": {},
   "outputs": [],
   "source": [
    "from sklearn.model_selection import train_test_split"
   ]
  },
  {
   "cell_type": "code",
   "execution_count": 7,
   "metadata": {},
   "outputs": [
    {
     "data": {
      "text/plain": [
       "6"
      ]
     },
     "execution_count": 7,
     "metadata": {},
     "output_type": "execute_result"
    }
   ],
   "source": [
    "len(df.columns)"
   ]
  },
  {
   "cell_type": "markdown",
   "metadata": {},
   "source": [
    "### shuffle data - to prevent uneven data split"
   ]
  },
  {
   "cell_type": "code",
   "execution_count": 8,
   "metadata": {
    "scrolled": true
   },
   "outputs": [
    {
     "data": {
      "text/html": [
       "<div>\n",
       "<style scoped>\n",
       "    .dataframe tbody tr th:only-of-type {\n",
       "        vertical-align: middle;\n",
       "    }\n",
       "\n",
       "    .dataframe tbody tr th {\n",
       "        vertical-align: top;\n",
       "    }\n",
       "\n",
       "    .dataframe thead th {\n",
       "        text-align: right;\n",
       "    }\n",
       "</style>\n",
       "<table border=\"1\" class=\"dataframe\">\n",
       "  <thead>\n",
       "    <tr style=\"text-align: right;\">\n",
       "      <th></th>\n",
       "      <th>Terrain variability 500 m buffer</th>\n",
       "      <th>Terrain variability 1000 m buffer</th>\n",
       "      <th>Elevation above river (m)</th>\n",
       "      <th>DtR (m)cor</th>\n",
       "      <th>Viewshed</th>\n",
       "      <th>Classific</th>\n",
       "    </tr>\n",
       "  </thead>\n",
       "  <tbody>\n",
       "    <tr>\n",
       "      <th>0</th>\n",
       "      <td>67</td>\n",
       "      <td>122</td>\n",
       "      <td>124</td>\n",
       "      <td>17600</td>\n",
       "      <td>81239</td>\n",
       "      <td>0</td>\n",
       "    </tr>\n",
       "    <tr>\n",
       "      <th>1</th>\n",
       "      <td>57</td>\n",
       "      <td>107</td>\n",
       "      <td>152</td>\n",
       "      <td>22150</td>\n",
       "      <td>16236</td>\n",
       "      <td>1</td>\n",
       "    </tr>\n",
       "    <tr>\n",
       "      <th>2</th>\n",
       "      <td>65</td>\n",
       "      <td>136</td>\n",
       "      <td>154</td>\n",
       "      <td>17400</td>\n",
       "      <td>197464</td>\n",
       "      <td>0</td>\n",
       "    </tr>\n",
       "    <tr>\n",
       "      <th>3</th>\n",
       "      <td>28</td>\n",
       "      <td>42</td>\n",
       "      <td>29</td>\n",
       "      <td>1000</td>\n",
       "      <td>27123</td>\n",
       "      <td>1</td>\n",
       "    </tr>\n",
       "    <tr>\n",
       "      <th>4</th>\n",
       "      <td>38</td>\n",
       "      <td>79</td>\n",
       "      <td>22</td>\n",
       "      <td>300</td>\n",
       "      <td>1177</td>\n",
       "      <td>1</td>\n",
       "    </tr>\n",
       "    <tr>\n",
       "      <th>5</th>\n",
       "      <td>48</td>\n",
       "      <td>74</td>\n",
       "      <td>32</td>\n",
       "      <td>7700</td>\n",
       "      <td>18073</td>\n",
       "      <td>1</td>\n",
       "    </tr>\n",
       "    <tr>\n",
       "      <th>6</th>\n",
       "      <td>32</td>\n",
       "      <td>42</td>\n",
       "      <td>26</td>\n",
       "      <td>750</td>\n",
       "      <td>20919</td>\n",
       "      <td>1</td>\n",
       "    </tr>\n",
       "    <tr>\n",
       "      <th>7</th>\n",
       "      <td>28</td>\n",
       "      <td>72</td>\n",
       "      <td>20</td>\n",
       "      <td>140</td>\n",
       "      <td>5558</td>\n",
       "      <td>1</td>\n",
       "    </tr>\n",
       "    <tr>\n",
       "      <th>8</th>\n",
       "      <td>31</td>\n",
       "      <td>68</td>\n",
       "      <td>30</td>\n",
       "      <td>250</td>\n",
       "      <td>7675</td>\n",
       "      <td>1</td>\n",
       "    </tr>\n",
       "    <tr>\n",
       "      <th>9</th>\n",
       "      <td>68</td>\n",
       "      <td>134</td>\n",
       "      <td>33</td>\n",
       "      <td>60</td>\n",
       "      <td>215</td>\n",
       "      <td>1</td>\n",
       "    </tr>\n",
       "    <tr>\n",
       "      <th>10</th>\n",
       "      <td>31</td>\n",
       "      <td>66</td>\n",
       "      <td>20</td>\n",
       "      <td>270</td>\n",
       "      <td>5880</td>\n",
       "      <td>1</td>\n",
       "    </tr>\n",
       "    <tr>\n",
       "      <th>11</th>\n",
       "      <td>35</td>\n",
       "      <td>38</td>\n",
       "      <td>36</td>\n",
       "      <td>850</td>\n",
       "      <td>30058</td>\n",
       "      <td>1</td>\n",
       "    </tr>\n",
       "    <tr>\n",
       "      <th>12</th>\n",
       "      <td>21</td>\n",
       "      <td>72</td>\n",
       "      <td>15</td>\n",
       "      <td>80</td>\n",
       "      <td>2460</td>\n",
       "      <td>1</td>\n",
       "    </tr>\n",
       "    <tr>\n",
       "      <th>13</th>\n",
       "      <td>62</td>\n",
       "      <td>132</td>\n",
       "      <td>31</td>\n",
       "      <td>40</td>\n",
       "      <td>218</td>\n",
       "      <td>0</td>\n",
       "    </tr>\n",
       "    <tr>\n",
       "      <th>14</th>\n",
       "      <td>44</td>\n",
       "      <td>123</td>\n",
       "      <td>67</td>\n",
       "      <td>8550</td>\n",
       "      <td>3485</td>\n",
       "      <td>1</td>\n",
       "    </tr>\n",
       "    <tr>\n",
       "      <th>15</th>\n",
       "      <td>67</td>\n",
       "      <td>134</td>\n",
       "      <td>117</td>\n",
       "      <td>18600</td>\n",
       "      <td>123610</td>\n",
       "      <td>0</td>\n",
       "    </tr>\n",
       "    <tr>\n",
       "      <th>16</th>\n",
       "      <td>53</td>\n",
       "      <td>125</td>\n",
       "      <td>152</td>\n",
       "      <td>14600</td>\n",
       "      <td>16907</td>\n",
       "      <td>1</td>\n",
       "    </tr>\n",
       "    <tr>\n",
       "      <th>17</th>\n",
       "      <td>68</td>\n",
       "      <td>168</td>\n",
       "      <td>161</td>\n",
       "      <td>13750</td>\n",
       "      <td>1751</td>\n",
       "      <td>1</td>\n",
       "    </tr>\n",
       "    <tr>\n",
       "      <th>18</th>\n",
       "      <td>57</td>\n",
       "      <td>109</td>\n",
       "      <td>98</td>\n",
       "      <td>10500</td>\n",
       "      <td>24394</td>\n",
       "      <td>1</td>\n",
       "    </tr>\n",
       "    <tr>\n",
       "      <th>19</th>\n",
       "      <td>33</td>\n",
       "      <td>77</td>\n",
       "      <td>74</td>\n",
       "      <td>5070</td>\n",
       "      <td>28055</td>\n",
       "      <td>1</td>\n",
       "    </tr>\n",
       "    <tr>\n",
       "      <th>20</th>\n",
       "      <td>32</td>\n",
       "      <td>60</td>\n",
       "      <td>239</td>\n",
       "      <td>7450</td>\n",
       "      <td>1682</td>\n",
       "      <td>0</td>\n",
       "    </tr>\n",
       "    <tr>\n",
       "      <th>21</th>\n",
       "      <td>55</td>\n",
       "      <td>129</td>\n",
       "      <td>108</td>\n",
       "      <td>17600</td>\n",
       "      <td>42602</td>\n",
       "      <td>0</td>\n",
       "    </tr>\n",
       "    <tr>\n",
       "      <th>22</th>\n",
       "      <td>79</td>\n",
       "      <td>131</td>\n",
       "      <td>181</td>\n",
       "      <td>130</td>\n",
       "      <td>169096</td>\n",
       "      <td>1</td>\n",
       "    </tr>\n",
       "    <tr>\n",
       "      <th>23</th>\n",
       "      <td>44</td>\n",
       "      <td>102</td>\n",
       "      <td>97</td>\n",
       "      <td>7640</td>\n",
       "      <td>5917</td>\n",
       "      <td>1</td>\n",
       "    </tr>\n",
       "    <tr>\n",
       "      <th>24</th>\n",
       "      <td>83</td>\n",
       "      <td>172</td>\n",
       "      <td>201</td>\n",
       "      <td>12900</td>\n",
       "      <td>15828</td>\n",
       "      <td>1</td>\n",
       "    </tr>\n",
       "    <tr>\n",
       "      <th>25</th>\n",
       "      <td>54</td>\n",
       "      <td>111</td>\n",
       "      <td>132</td>\n",
       "      <td>12700</td>\n",
       "      <td>149322</td>\n",
       "      <td>0</td>\n",
       "    </tr>\n",
       "    <tr>\n",
       "      <th>26</th>\n",
       "      <td>57</td>\n",
       "      <td>113</td>\n",
       "      <td>138</td>\n",
       "      <td>12250</td>\n",
       "      <td>136119</td>\n",
       "      <td>0</td>\n",
       "    </tr>\n",
       "    <tr>\n",
       "      <th>27</th>\n",
       "      <td>69</td>\n",
       "      <td>133</td>\n",
       "      <td>142</td>\n",
       "      <td>16750</td>\n",
       "      <td>173065</td>\n",
       "      <td>0</td>\n",
       "    </tr>\n",
       "    <tr>\n",
       "      <th>28</th>\n",
       "      <td>55</td>\n",
       "      <td>127</td>\n",
       "      <td>200</td>\n",
       "      <td>2300</td>\n",
       "      <td>204292</td>\n",
       "      <td>0</td>\n",
       "    </tr>\n",
       "    <tr>\n",
       "      <th>29</th>\n",
       "      <td>42</td>\n",
       "      <td>73</td>\n",
       "      <td>9</td>\n",
       "      <td>190</td>\n",
       "      <td>280</td>\n",
       "      <td>1</td>\n",
       "    </tr>\n",
       "    <tr>\n",
       "      <th>30</th>\n",
       "      <td>64</td>\n",
       "      <td>127</td>\n",
       "      <td>136</td>\n",
       "      <td>18500</td>\n",
       "      <td>121081</td>\n",
       "      <td>0</td>\n",
       "    </tr>\n",
       "    <tr>\n",
       "      <th>31</th>\n",
       "      <td>60</td>\n",
       "      <td>114</td>\n",
       "      <td>102</td>\n",
       "      <td>2930</td>\n",
       "      <td>209153</td>\n",
       "      <td>1</td>\n",
       "    </tr>\n",
       "    <tr>\n",
       "      <th>32</th>\n",
       "      <td>63</td>\n",
       "      <td>105</td>\n",
       "      <td>87</td>\n",
       "      <td>1450</td>\n",
       "      <td>99107</td>\n",
       "      <td>1</td>\n",
       "    </tr>\n",
       "    <tr>\n",
       "      <th>33</th>\n",
       "      <td>28</td>\n",
       "      <td>42</td>\n",
       "      <td>57</td>\n",
       "      <td>5430</td>\n",
       "      <td>22734</td>\n",
       "      <td>1</td>\n",
       "    </tr>\n",
       "    <tr>\n",
       "      <th>34</th>\n",
       "      <td>26</td>\n",
       "      <td>42</td>\n",
       "      <td>25</td>\n",
       "      <td>1550</td>\n",
       "      <td>79392</td>\n",
       "      <td>1</td>\n",
       "    </tr>\n",
       "    <tr>\n",
       "      <th>35</th>\n",
       "      <td>58</td>\n",
       "      <td>144</td>\n",
       "      <td>116</td>\n",
       "      <td>18250</td>\n",
       "      <td>136147</td>\n",
       "      <td>0</td>\n",
       "    </tr>\n",
       "    <tr>\n",
       "      <th>36</th>\n",
       "      <td>51</td>\n",
       "      <td>79</td>\n",
       "      <td>12</td>\n",
       "      <td>3350</td>\n",
       "      <td>101294</td>\n",
       "      <td>1</td>\n",
       "    </tr>\n",
       "    <tr>\n",
       "      <th>37</th>\n",
       "      <td>48</td>\n",
       "      <td>120</td>\n",
       "      <td>162</td>\n",
       "      <td>18150</td>\n",
       "      <td>196682</td>\n",
       "      <td>0</td>\n",
       "    </tr>\n",
       "    <tr>\n",
       "      <th>38</th>\n",
       "      <td>26</td>\n",
       "      <td>68</td>\n",
       "      <td>20</td>\n",
       "      <td>160</td>\n",
       "      <td>6692</td>\n",
       "      <td>1</td>\n",
       "    </tr>\n",
       "    <tr>\n",
       "      <th>39</th>\n",
       "      <td>61</td>\n",
       "      <td>110</td>\n",
       "      <td>136</td>\n",
       "      <td>3300</td>\n",
       "      <td>148820</td>\n",
       "      <td>0</td>\n",
       "    </tr>\n",
       "    <tr>\n",
       "      <th>40</th>\n",
       "      <td>59</td>\n",
       "      <td>119</td>\n",
       "      <td>150</td>\n",
       "      <td>8950</td>\n",
       "      <td>135417</td>\n",
       "      <td>0</td>\n",
       "    </tr>\n",
       "  </tbody>\n",
       "</table>\n",
       "</div>"
      ],
      "text/plain": [
       "    Terrain variability 500 m buffer  Terrain variability 1000 m buffer  \\\n",
       "0                                 67                                122   \n",
       "1                                 57                                107   \n",
       "2                                 65                                136   \n",
       "3                                 28                                 42   \n",
       "4                                 38                                 79   \n",
       "5                                 48                                 74   \n",
       "6                                 32                                 42   \n",
       "7                                 28                                 72   \n",
       "8                                 31                                 68   \n",
       "9                                 68                                134   \n",
       "10                                31                                 66   \n",
       "11                                35                                 38   \n",
       "12                                21                                 72   \n",
       "13                                62                                132   \n",
       "14                                44                                123   \n",
       "15                                67                                134   \n",
       "16                                53                                125   \n",
       "17                                68                                168   \n",
       "18                                57                                109   \n",
       "19                                33                                 77   \n",
       "20                                32                                 60   \n",
       "21                                55                                129   \n",
       "22                                79                                131   \n",
       "23                                44                                102   \n",
       "24                                83                                172   \n",
       "25                                54                                111   \n",
       "26                                57                                113   \n",
       "27                                69                                133   \n",
       "28                                55                                127   \n",
       "29                                42                                 73   \n",
       "30                                64                                127   \n",
       "31                                60                                114   \n",
       "32                                63                                105   \n",
       "33                                28                                 42   \n",
       "34                                26                                 42   \n",
       "35                                58                                144   \n",
       "36                                51                                 79   \n",
       "37                                48                                120   \n",
       "38                                26                                 68   \n",
       "39                                61                                110   \n",
       "40                                59                                119   \n",
       "\n",
       "    Elevation above river (m)  DtR (m)cor  Viewshed  Classific  \n",
       "0                         124       17600     81239          0  \n",
       "1                         152       22150     16236          1  \n",
       "2                         154       17400    197464          0  \n",
       "3                          29        1000     27123          1  \n",
       "4                          22         300      1177          1  \n",
       "5                          32        7700     18073          1  \n",
       "6                          26         750     20919          1  \n",
       "7                          20         140      5558          1  \n",
       "8                          30         250      7675          1  \n",
       "9                          33          60       215          1  \n",
       "10                         20         270      5880          1  \n",
       "11                         36         850     30058          1  \n",
       "12                         15          80      2460          1  \n",
       "13                         31          40       218          0  \n",
       "14                         67        8550      3485          1  \n",
       "15                        117       18600    123610          0  \n",
       "16                        152       14600     16907          1  \n",
       "17                        161       13750      1751          1  \n",
       "18                         98       10500     24394          1  \n",
       "19                         74        5070     28055          1  \n",
       "20                        239        7450      1682          0  \n",
       "21                        108       17600     42602          0  \n",
       "22                        181         130    169096          1  \n",
       "23                         97        7640      5917          1  \n",
       "24                        201       12900     15828          1  \n",
       "25                        132       12700    149322          0  \n",
       "26                        138       12250    136119          0  \n",
       "27                        142       16750    173065          0  \n",
       "28                        200        2300    204292          0  \n",
       "29                          9         190       280          1  \n",
       "30                        136       18500    121081          0  \n",
       "31                        102        2930    209153          1  \n",
       "32                         87        1450     99107          1  \n",
       "33                         57        5430     22734          1  \n",
       "34                         25        1550     79392          1  \n",
       "35                        116       18250    136147          0  \n",
       "36                         12        3350    101294          1  \n",
       "37                        162       18150    196682          0  \n",
       "38                         20         160      6692          1  \n",
       "39                        136        3300    148820          0  \n",
       "40                        150        8950    135417          0  "
      ]
     },
     "execution_count": 8,
     "metadata": {},
     "output_type": "execute_result"
    }
   ],
   "source": [
    "df = df.sample(frac=1).reset_index(drop=True)\n",
    "df"
   ]
  },
  {
   "cell_type": "code",
   "execution_count": 9,
   "metadata": {},
   "outputs": [],
   "source": [
    "X = df.loc[:, df.columns != 'Classific']\n",
    "y = df.loc[:,'Classific']"
   ]
  },
  {
   "cell_type": "code",
   "execution_count": 10,
   "metadata": {},
   "outputs": [],
   "source": [
    "X_train, X_test, y_train, y_test = train_test_split(X, y,  test_size=.3, random_state=42)"
   ]
  },
  {
   "cell_type": "code",
   "execution_count": 11,
   "metadata": {},
   "outputs": [
    {
     "data": {
      "text/html": [
       "<div>\n",
       "<style scoped>\n",
       "    .dataframe tbody tr th:only-of-type {\n",
       "        vertical-align: middle;\n",
       "    }\n",
       "\n",
       "    .dataframe tbody tr th {\n",
       "        vertical-align: top;\n",
       "    }\n",
       "\n",
       "    .dataframe thead th {\n",
       "        text-align: right;\n",
       "    }\n",
       "</style>\n",
       "<table border=\"1\" class=\"dataframe\">\n",
       "  <thead>\n",
       "    <tr style=\"text-align: right;\">\n",
       "      <th></th>\n",
       "      <th>Terrain variability 500 m buffer</th>\n",
       "      <th>Terrain variability 1000 m buffer</th>\n",
       "      <th>Elevation above river (m)</th>\n",
       "      <th>DtR (m)cor</th>\n",
       "      <th>Viewshed</th>\n",
       "    </tr>\n",
       "  </thead>\n",
       "  <tbody>\n",
       "    <tr>\n",
       "      <th>24</th>\n",
       "      <td>83</td>\n",
       "      <td>172</td>\n",
       "      <td>201</td>\n",
       "      <td>12900</td>\n",
       "      <td>15828</td>\n",
       "    </tr>\n",
       "    <tr>\n",
       "      <th>13</th>\n",
       "      <td>62</td>\n",
       "      <td>132</td>\n",
       "      <td>31</td>\n",
       "      <td>40</td>\n",
       "      <td>218</td>\n",
       "    </tr>\n",
       "    <tr>\n",
       "      <th>8</th>\n",
       "      <td>31</td>\n",
       "      <td>68</td>\n",
       "      <td>30</td>\n",
       "      <td>250</td>\n",
       "      <td>7675</td>\n",
       "    </tr>\n",
       "    <tr>\n",
       "      <th>25</th>\n",
       "      <td>54</td>\n",
       "      <td>111</td>\n",
       "      <td>132</td>\n",
       "      <td>12700</td>\n",
       "      <td>149322</td>\n",
       "    </tr>\n",
       "    <tr>\n",
       "      <th>4</th>\n",
       "      <td>38</td>\n",
       "      <td>79</td>\n",
       "      <td>22</td>\n",
       "      <td>300</td>\n",
       "      <td>1177</td>\n",
       "    </tr>\n",
       "  </tbody>\n",
       "</table>\n",
       "</div>"
      ],
      "text/plain": [
       "    Terrain variability 500 m buffer  Terrain variability 1000 m buffer  \\\n",
       "24                                83                                172   \n",
       "13                                62                                132   \n",
       "8                                 31                                 68   \n",
       "25                                54                                111   \n",
       "4                                 38                                 79   \n",
       "\n",
       "    Elevation above river (m)  DtR (m)cor  Viewshed  \n",
       "24                        201       12900     15828  \n",
       "13                         31          40       218  \n",
       "8                          30         250      7675  \n",
       "25                        132       12700    149322  \n",
       "4                          22         300      1177  "
      ]
     },
     "execution_count": 11,
     "metadata": {},
     "output_type": "execute_result"
    }
   ],
   "source": [
    "X_test.head()"
   ]
  },
  {
   "cell_type": "code",
   "execution_count": 12,
   "metadata": {},
   "outputs": [
    {
     "data": {
      "text/plain": [
       "Index(['Terrain variability 500 m buffer', 'Terrain variability 1000 m buffer',\n",
       "       'Elevation above river (m)', 'DtR (m)cor', 'Viewshed'],\n",
       "      dtype='object')"
      ]
     },
     "execution_count": 12,
     "metadata": {},
     "output_type": "execute_result"
    }
   ],
   "source": [
    "X_test.columns"
   ]
  },
  {
   "cell_type": "markdown",
   "metadata": {},
   "source": [
    "## normalize data - scaling (0-1)"
   ]
  },
  {
   "cell_type": "code",
   "execution_count": 13,
   "metadata": {},
   "outputs": [],
   "source": [
    "X_train_values = X_train.values #returns a numpy array\n",
    "min_max_scaler = preprocessing.MinMaxScaler()\n",
    "x_scaled_train = min_max_scaler.fit_transform(X_train_values)\n",
    "\n",
    "X_test_values = X_test.values #returns a numpy array\n",
    "min_max_scaler = preprocessing.MinMaxScaler()\n",
    "x_scaled_test = min_max_scaler.fit_transform(X_test_values)\n",
    "\n",
    "\n",
    "X_train = pd.DataFrame(x_scaled_train)\n",
    "X_test = pd.DataFrame(x_scaled_test)\n",
    "\n",
    "\n",
    "X_train.columns = ['Terrain variability 500 m buffer', 'Terrain variability 1000 m buffer','Elevation above river (m)', \n",
    "       'DtR (m)cor', 'Viewshed']\n",
    "X_test.columns = ['Terrain variability 500 m buffer', 'Terrain variability 1000 m buffer','Elevation above river (m)', \n",
    "       'DtR (m)cor', 'Viewshed']\n"
   ]
  },
  {
   "cell_type": "markdown",
   "metadata": {},
   "source": [
    "### our dataset is unbalanced and we do not have data"
   ]
  },
  {
   "cell_type": "code",
   "execution_count": 14,
   "metadata": {},
   "outputs": [
    {
     "data": {
      "text/plain": [
       "1    8\n",
       "0    5\n",
       "Name: Classific, dtype: int64"
      ]
     },
     "execution_count": 14,
     "metadata": {},
     "output_type": "execute_result"
    }
   ],
   "source": [
    "y_test.value_counts()"
   ]
  },
  {
   "cell_type": "markdown",
   "metadata": {},
   "source": [
    "#### feature selection - only looking which features are the most important"
   ]
  },
  {
   "cell_type": "code",
   "execution_count": 15,
   "metadata": {},
   "outputs": [
    {
     "name": "stdout",
     "output_type": "stream",
     "text": [
      "                            Features      Score\n",
      "3                         DtR (m)cor  19.629002\n",
      "2          Elevation above river (m)  17.920333\n",
      "4                           Viewshed  10.342960\n",
      "1  Terrain variability 1000 m buffer   9.060405\n",
      "0   Terrain variability 500 m buffer   4.327093\n"
     ]
    }
   ],
   "source": [
    "#initialize the model\n",
    "best_features = SelectKBest(score_func=f_classif, k = 'all')\n",
    "fit = best_features.fit(X_train,y_train)\n",
    "\n",
    "results = pd.DataFrame(fit.scores_)\n",
    "dfcolumns = pd.DataFrame(X.columns)\n",
    "\n",
    "results_table = pd.concat([dfcolumns, results],axis=1)\n",
    "results_table.columns = ['Features', 'Score']\n",
    "results_table.sort_values(by='Score', ascending = False)\n",
    "\n",
    "print(results_table.nlargest(7,'Score'))\n"
   ]
  },
  {
   "cell_type": "code",
   "execution_count": 16,
   "metadata": {},
   "outputs": [
    {
     "data": {
      "text/html": [
       "<div>\n",
       "<style scoped>\n",
       "    .dataframe tbody tr th:only-of-type {\n",
       "        vertical-align: middle;\n",
       "    }\n",
       "\n",
       "    .dataframe tbody tr th {\n",
       "        vertical-align: top;\n",
       "    }\n",
       "\n",
       "    .dataframe thead th {\n",
       "        text-align: right;\n",
       "    }\n",
       "</style>\n",
       "<table border=\"1\" class=\"dataframe\">\n",
       "  <thead>\n",
       "    <tr style=\"text-align: right;\">\n",
       "      <th></th>\n",
       "      <th>Features</th>\n",
       "      <th>Score</th>\n",
       "    </tr>\n",
       "  </thead>\n",
       "  <tbody>\n",
       "    <tr>\n",
       "      <th>3</th>\n",
       "      <td>DtR (m)cor</td>\n",
       "      <td>3.643314</td>\n",
       "    </tr>\n",
       "    <tr>\n",
       "      <th>4</th>\n",
       "      <td>Viewshed</td>\n",
       "      <td>2.677899</td>\n",
       "    </tr>\n",
       "    <tr>\n",
       "      <th>2</th>\n",
       "      <td>Elevation above river (m)</td>\n",
       "      <td>2.239587</td>\n",
       "    </tr>\n",
       "    <tr>\n",
       "      <th>1</th>\n",
       "      <td>Terrain variability 1000 m buffer</td>\n",
       "      <td>1.250845</td>\n",
       "    </tr>\n",
       "    <tr>\n",
       "      <th>0</th>\n",
       "      <td>Terrain variability 500 m buffer</td>\n",
       "      <td>0.734742</td>\n",
       "    </tr>\n",
       "  </tbody>\n",
       "</table>\n",
       "</div>"
      ],
      "text/plain": [
       "                            Features     Score\n",
       "3                         DtR (m)cor  3.643314\n",
       "4                           Viewshed  2.677899\n",
       "2          Elevation above river (m)  2.239587\n",
       "1  Terrain variability 1000 m buffer  1.250845\n",
       "0   Terrain variability 500 m buffer  0.734742"
      ]
     },
     "execution_count": 16,
     "metadata": {},
     "output_type": "execute_result"
    }
   ],
   "source": [
    "Y = y_train\n",
    "X = X_train # independent columns\n",
    "X.head()\n",
    "\n",
    "#initialize the model\n",
    "best_features = SelectKBest(score_func=chi2, k='all')\n",
    "fit = best_features.fit(X,Y)\n",
    "\n",
    "results = pd.DataFrame(fit.scores_)\n",
    "dfcolumns = pd.DataFrame(X.columns)\n",
    "\n",
    "results_table = pd.concat([dfcolumns, results],axis=1)\n",
    "results_table.columns = ['Features', 'Score']\n",
    "results_table.sort_values(by='Score', ascending = False)\n",
    "\n",
    "results_table.nlargest(6,'Score')"
   ]
  },
  {
   "cell_type": "code",
   "execution_count": 17,
   "metadata": {},
   "outputs": [
    {
     "data": {
      "text/plain": [
       "ExtraTreesClassifier()"
      ]
     },
     "execution_count": 17,
     "metadata": {},
     "output_type": "execute_result"
    }
   ],
   "source": [
    "# initialize model\n",
    "model = ExtraTreesClassifier()\n",
    "model.fit(X_train,y_train)"
   ]
  },
  {
   "cell_type": "code",
   "execution_count": 18,
   "metadata": {},
   "outputs": [
    {
     "data": {
      "text/plain": [
       "array([0.08351305, 0.17213502, 0.23985027, 0.33411644, 0.17038522])"
      ]
     },
     "execution_count": 18,
     "metadata": {},
     "output_type": "execute_result"
    }
   ],
   "source": [
    "model.feature_importances_"
   ]
  },
  {
   "cell_type": "code",
   "execution_count": 19,
   "metadata": {},
   "outputs": [
    {
     "data": {
      "image/png": "[encoded data removed]",
      "text/plain": [
       "<Figure size 576x396 with 1 Axes>"
      ]
     },
     "metadata": {},
     "output_type": "display_data"
    }
   ],
   "source": [
    "plt.style.use('seaborn')\n",
    "\n",
    "feature_importance = pd.Series(model.feature_importances_, index = X.columns)\n",
    "feature_importance.nlargest(7).plot(kind = 'barh')\n",
    "plt.tight_layout()\n",
    "plt.show()"
   ]
  },
  {
   "cell_type": "markdown",
   "metadata": {},
   "source": [
    "<div style=\"background-color: orange; text-align:center; padding:5px;\">\n",
    "<h2>Modeling</h2>\n",
    "</div>   "
   ]
  },
  {
   "cell_type": "code",
   "execution_count": 26,
   "metadata": {},
   "outputs": [
    {
     "data": {
      "text/plain": [
       "1    8\n",
       "0    5\n",
       "Name: Classific, dtype: int64"
      ]
     },
     "execution_count": 26,
     "metadata": {},
     "output_type": "execute_result"
    }
   ],
   "source": [
    "y_test.value_counts()"
   ]
  },
  {
   "cell_type": "code",
   "execution_count": 28,
   "metadata": {},
   "outputs": [
    {
     "name": "stderr",
     "output_type": "stream",
     "text": [
      "C:\\Users\\hamro\\Anaconda3\\lib\\site-packages\\xgboost\\sklearn.py:888: UserWarning: The use of label encoder in XGBClassifier is deprecated and will be removed in a future release. To remove this warning, do the following: 1) Pass option use_label_encoder=False when constructing XGBClassifier object; and 2) Encode your labels (y) as integers starting with 0, i.e. 0, 1, 2, ..., [num_class - 1].\n",
      "  warnings.warn(label_encoder_deprecation_msg, UserWarning)\n"
     ]
    },
    {
     "name": "stdout",
     "output_type": "stream",
     "text": [
      "[18:04:42] WARNING: C:/Users/Administrator/workspace/xgboost-win64_release_1.3.0/src/learner.cc:1061: Starting in XGBoost 1.3.0, the default evaluation metric used with the objective 'binary:logistic' was changed from 'error' to 'logloss'. Explicitly set eval_metric if you'd like to restore the old behavior.\n",
      "[18:04:42] WARNING: C:/Users/Administrator/workspace/xgboost-win64_release_1.3.0/src/learner.cc:1061: Starting in XGBoost 1.3.0, the default evaluation metric used with the objective 'binary:logistic' was changed from 'error' to 'logloss'. Explicitly set eval_metric if you'd like to restore the old behavior.\n",
      "[18:04:42] WARNING: C:/Users/Administrator/workspace/xgboost-win64_release_1.3.0/src/learner.cc:1061: Starting in XGBoost 1.3.0, the default evaluation metric used with the objective 'binary:logistic' was changed from 'error' to 'logloss'. Explicitly set eval_metric if you'd like to restore the old behavior.\n"
     ]
    },
    {
     "data": {
      "image/png": "[encoded data removed]",
      "text/plain": [
       "<Figure size 864x432 with 1 Axes>"
      ]
     },
     "metadata": {},
     "output_type": "display_data"
    }
   ],
   "source": [
    "models = models = {\"Logistic Regression\": LogisticRegression(), \"KNN\": KNeighborsClassifier(), \"Decision Tree Classifier\": DecisionTreeClassifier(), \"SVM\": svm.SVC(), \"Random forest\": RandomForestClassifier(), \"XGBoost\":xgboost.XGBClassifier()}\n",
    "results = []\n",
    "\n",
    "for model in models.values():\n",
    "    \n",
    "    kf = KFold(n_splits=3, random_state=42, shuffle=True)\n",
    "    cv = cross_val_score(model, X_train, y_train, cv=kf)\n",
    "    results.append(cv)\n",
    "    \n",
    "plt.figure(figsize=(12, 6))\n",
    "plt.boxplot(results, labels=models.keys())\n",
    "plt.show()"
   ]
  },
  {
   "cell_type": "markdown",
   "metadata": {},
   "source": [
    "### As we do not have much data, we're picking not complicated model - Logistic regression\n",
    "### also we deal with an inbalanced dataset so we could upsample 0 class data using e.g. bootstrap but for the time being we're gonna use only current data\n",
    "### models in gernal performed fairly similar"
   ]
  },
  {
   "cell_type": "markdown",
   "metadata": {},
   "source": [
    "#### FINE-TUNING MODEL Logistic regression"
   ]
  },
  {
   "cell_type": "code",
   "execution_count": 131,
   "metadata": {},
   "outputs": [
    {
     "name": "stdout",
     "output_type": "stream",
     "text": [
      "Best parameter: {'C': 1.0, 'penalty': 'l2', 'tol': 0.4898469387755102}\n",
      "Best score: 0.8555555555555555\n"
     ]
    }
   ],
   "source": [
    "params = {\"penalty\": [\"l2\"],\n",
    "         \"tol\": np.linspace(0.0001, 1.0, 50),\n",
    "         \"C\": np.linspace(0.1, 1.0, 50)}\n",
    "kf = KFold(n_splits=3, random_state=42, shuffle=True)\n",
    "LogReg = LogisticRegression()\n",
    "\n",
    "LogReg_cv = GridSearchCV(LogReg, params, cv=kf)\n",
    "\n",
    "LogReg_cv.fit(X_train, y_train)\n",
    "\n",
    "print('Best parameter: {}'.format(LogReg_cv.best_params_))\n",
    "print('Best score: {}'.format(LogReg_cv.best_score_))"
   ]
  },
  {
   "cell_type": "markdown",
   "metadata": {},
   "source": [
    "### MODEL PREDICTIONS"
   ]
  },
  {
   "cell_type": "code",
   "execution_count": 132,
   "metadata": {},
   "outputs": [
    {
     "name": "stdout",
     "output_type": "stream",
     "text": [
      "              precision    recall  f1-score   support\n",
      "\n",
      "           0       0.67      0.80      0.73         5\n",
      "           1       0.86      0.75      0.80         8\n",
      "\n",
      "    accuracy                           0.77        13\n",
      "   macro avg       0.76      0.78      0.76        13\n",
      "weighted avg       0.78      0.77      0.77        13\n",
      "\n",
      "[[4 1]\n",
      " [2 6]]\n"
     ]
    }
   ],
   "source": [
    "LogReg = LogisticRegression(C=1, penalty='l2', tol=0.4898469387755102)\n",
    "\n",
    "LogReg.fit(X_train, y_train)\n",
    "\n",
    "predictions = LogReg.predict(X_test)\n",
    "\n",
    "print(classification_report(y_test, predictions))\n",
    "print(confusion_matrix(y_test, predictions))"
   ]
  },
  {
   "cell_type": "markdown",
   "metadata": {},
   "source": [
    "### results"
   ]
  },
  {
   "cell_type": "code",
   "execution_count": 129,
   "metadata": {},
   "outputs": [
    {
     "data": {
      "image/png": "[encoded data removed]",
      "text/plain": [
       "<Figure size 576x396 with 2 Axes>"
      ]
     },
     "metadata": {},
     "output_type": "display_data"
    }
   ],
   "source": [
    "plot_confusion_matrix(LogReg_cv, X_test, y_test)\n",
    "plt.grid(False)"
   ]
  },
  {
   "cell_type": "code",
   "execution_count": 133,
   "metadata": {},
   "outputs": [
    {
     "name": "stdout",
     "output_type": "stream",
     "text": [
      "[[0.67120352 0.32879648]\n",
      " [0.14464038 0.85535962]\n",
      " [0.1167974  0.8832026 ]\n",
      " [0.72782441 0.27217559]\n",
      " [0.11441144 0.88558856]\n",
      " [0.65440489 0.34559511]\n",
      " [0.24504648 0.75495352]\n",
      " [0.51471095 0.48528905]\n",
      " [0.10507385 0.89492615]\n",
      " [0.12008882 0.87991118]\n",
      " [0.70899414 0.29100586]\n",
      " [0.10287992 0.89712008]\n",
      " [0.60871112 0.39128888]]\n",
      "[0.32879648 0.85535962 0.8832026  0.27217559 0.88558856 0.34559511\n",
      " 0.75495352 0.48528905 0.89492615 0.87991118 0.29100586 0.89712008\n",
      " 0.39128888]\n"
     ]
    }
   ],
   "source": [
    "r_probs = [0 for i in range(len(y_test))]\n",
    "LogReg_probs = LogReg.predict_proba(X_test)\n",
    "print(LogReg_probs)\n",
    "\n",
    "LogReg_probs = LogReg_probs[:, 1]\n",
    "print(LogReg_probs)"
   ]
  },
  {
   "cell_type": "code",
   "execution_count": 114,
   "metadata": {},
   "outputs": [
    {
     "name": "stdout",
     "output_type": "stream",
     "text": [
      "area under curve is:  0.85\n"
     ]
    }
   ],
   "source": [
    "# calculate\n",
    "LogReg_auc = roc_auc_score(y_test, LogReg_probs)\n",
    "print(\"area under curve is: \", LogReg_auc)"
   ]
  },
  {
   "cell_type": "code",
   "execution_count": 115,
   "metadata": {},
   "outputs": [],
   "source": [
    "# calculate roc curve\n",
    "LogReg_fpr, LogReg_tpr, _ = roc_curve(y_test, LogReg_probs)"
   ]
  },
  {
   "cell_type": "code",
   "execution_count": 123,
   "metadata": {},
   "outputs": [
    {
     "data": {
      "image/png": "[encoded data removed]",
      "text/plain": [
       "<Figure size 576x396 with 1 Axes>"
      ]
     },
     "metadata": {},
     "output_type": "display_data"
    }
   ],
   "source": [
    "plt.plot(LogReg_fpr, LogReg_tpr, marker='.', label=f'Logistic Regression AUC is: {LogReg_auc}', color=\"red\")\n",
    "plt.title('ROC Plot', {'size':14})\n",
    "plt.xlabel('False Positive Rate')\n",
    "plt.ylabel('True Positive Rate')\n",
    "plt.legend() \n",
    "plt.show()"
   ]
  },
  {
   "cell_type": "code",
   "execution_count": 119,
   "metadata": {},
   "outputs": [],
   "source": [
    "# save the model\n",
    "# save the model to disk\n",
    "filename = 'model.sav'\n",
    "pickle.dump(LogReg, open(filename, 'wb'))"
   ]
  }
 ],
 "metadata": {
  "kernelspec": {
   "display_name": "Python 3",
   "language": "python",
   "name": "python3"
  },
  "language_info": {
   "codemirror_mode": {
    "name": "ipython",
    "version": 3
   },
   "file_extension": ".py",
   "mimetype": "text/x-python",
   "name": "python",
   "nbconvert_exporter": "python",
   "pygments_lexer": "ipython3",
   "version": "3.8.5"
  }
 },
 "nbformat": 4,
 "nbformat_minor": 4
}
